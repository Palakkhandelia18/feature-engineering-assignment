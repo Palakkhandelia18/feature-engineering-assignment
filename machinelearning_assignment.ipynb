{
  "nbformat": 4,
  "nbformat_minor": 0,
  "metadata": {
    "colab": {
      "provenance": []
    },
    "kernelspec": {
      "name": "python3",
      "display_name": "Python 3"
    },
    "language_info": {
      "name": "python"
    }
  },
  "cells": [
    {
      "cell_type": "markdown",
      "source": [
        "# Feature Engineering – Assignment\n",
        "**Name:** Palak Khandelia  \n",
        "**Date:** 26 August 2025\n"
      ],
      "metadata": {
        "id": "Q0Q67Wu1NxHF"
      }
    },
    {
      "cell_type": "markdown",
      "source": [
        "### Q1. What is a parameter?  \n",
        "**Answer:**  \n",
        "A parameter is a value inside a model that is learned from the data.  \n",
        "They define how input features are mapped to output predictions.  \n",
        "Example: In linear regression \\( y = mx + c \\), slope \\(m\\) and intercept \\(c\\) are parameters.\n"
      ],
      "metadata": {
        "id": "ABBgbnQBNzGc"
      }
    },
    {
      "cell_type": "markdown",
      "source": [
        "### Q2. What is correlation? What does negative correlation mean?  \n",
        "**Answer:**  \n",
        "- Correlation measures the strength and direction of the relationship between two variables.  \n",
        "- Range: -1 to +1  \n",
        "  - **+1:** Perfect positive correlation (both increase together).  \n",
        "  - **-1:** Perfect negative correlation (one increases, other decreases).  \n",
        "Example:  \n",
        "- Study hours ↑ → Marks ↑ (positive)  \n",
        "- TV hours ↑ → Marks ↓ (negative)\n"
      ],
      "metadata": {
        "id": "ILD6tqdsOcL9"
      }
    },
    {
      "cell_type": "markdown",
      "source": [
        "### Q3. Define Machine Learning. What are the main components in Machine Learning?  \n",
        "**Answer:**  \n",
        "Machine Learning is a branch of AI where systems learn from data and make predictions or decisions without being explicitly programmed.  \n",
        "\n",
        "**Main Components:**  \n",
        "1. Data  \n",
        "2. Features  \n",
        "3. Model  \n",
        "4. Training  \n",
        "5. Evaluation\n"
      ],
      "metadata": {
        "id": "bpKiNd6xOjGq"
      }
    },
    {
      "cell_type": "markdown",
      "source": [
        "### Q4. How does loss value help in determining whether the model is good or not?  \n",
        "**Answer:**  \n",
        "- Loss function measures how far predictions are from actual values.  \n",
        "- Lower loss → Better model.  \n",
        "Example: Mean Squared Error (MSE) in regression.\n"
      ],
      "metadata": {
        "id": "5rCQGqXyOohx"
      }
    },
    {
      "cell_type": "markdown",
      "source": [
        "### Q5. What are continuous and categorical variables?  \n",
        "**Answer:**  \n",
        "- Continuous Variable: Numeric values (e.g., height, salary).  \n",
        "- Categorical Variable: Categories/labels (e.g., Gender = Male/Female).\n"
      ],
      "metadata": {
        "id": "4kZBm3HMOszc"
      }
    },
    {
      "cell_type": "markdown",
      "source": [
        "### Q6. How do we handle categorical variables in Machine Learning?  \n",
        "**Answer:**  \n",
        "Techniques:  \n",
        "1. Label Encoding  \n",
        "2. One-Hot Encoding  \n",
        "3. Target Encoding\n"
      ],
      "metadata": {
        "id": "BRgsmjt6OzG0"
      }
    },
    {
      "cell_type": "markdown",
      "source": [
        "### Q7. What do you mean by training and testing a dataset?  \n",
        "**Answer:**  \n",
        "- Training dataset: Used to train model.  \n",
        "- Testing dataset: Used to evaluate performance.\n"
      ],
      "metadata": {
        "id": "lzJaHo3tO2bC"
      }
    },
    {
      "cell_type": "markdown",
      "source": [
        "### Q8. What is sklearn.preprocessing?  \n",
        "**Answer:**  \n",
        "A module in Scikit-learn used for preprocessing.  \n",
        "Includes:  \n",
        "- Scaling (StandardScaler, MinMaxScaler)  \n",
        "- Encoding (LabelEncoder, OneHotEncoder)  \n",
        "- Normalization\n"
      ],
      "metadata": {
        "id": "m79gBcsaO9Qx"
      }
    },
    {
      "cell_type": "markdown",
      "source": [
        "### Q9. What is a Test set?  \n",
        "**Answer:**  \n",
        "A subset of dataset used to test model’s performance on unseen data.\n"
      ],
      "metadata": {
        "id": "PHHomIg5PC_7"
      }
    },
    {
      "cell_type": "markdown",
      "source": [
        "### Q10. How do we split data for model fitting (training and testing) in Python?\n"
      ],
      "metadata": {
        "id": "g_4IzTjTGUG-"
      }
    },
    {
      "cell_type": "code",
      "source": [
        "from sklearn.model_selection import train_test_split\n",
        "import pandas as pd\n",
        "\n",
        "data = pd.DataFrame({\"X\":[1,2,3,4,5], \"y\":[2,4,6,8,10]})\n",
        "X = data[[\"X\"]]\n",
        "y = data[\"y\"]\n",
        "\n",
        "X_train, X_test, y_train, y_test = train_test_split(X,y,test_size=0.3,random_state=42)\n",
        "print(\"X_train:\", X_train)\n",
        "print(\"X_test:\", X_test)\n"
      ],
      "metadata": {
        "colab": {
          "base_uri": "https://localhost:8080/",
          "height": 0
        },
        "id": "GI5-PV4cPMoB",
        "outputId": "e0dcaaaf-d9ab-4068-a7c0-c9ad945a3484"
      },
      "execution_count": 8,
      "outputs": [
        {
          "output_type": "stream",
          "name": "stdout",
          "text": [
            "X_train:    X\n",
            "2  3\n",
            "0  1\n",
            "3  4\n",
            "X_test:    X\n",
            "1  2\n",
            "4  5\n"
          ]
        }
      ]
    },
    {
      "cell_type": "markdown",
      "source": [
        "### Q11. Why do we have to perform EDA before fitting a model to the data?  \n",
        "**Answer:**  \n",
        "EDA (Exploratory Data Analysis) helps to:  \n",
        "- Understand data distribution  \n",
        "- Detect missing values/outliers  \n",
        "- Identify correlations  \n",
        "- Decide preprocessing methods\n"
      ],
      "metadata": {
        "id": "EoVBh963Pgh7"
      }
    },
    {
      "cell_type": "markdown",
      "source": [
        "### Q12. What is correlation?  \n",
        "**Answer:**  \n",
        "Correlation measures the strength and direction of the relationship between two variables.\n"
      ],
      "metadata": {
        "id": "ClWJCf1XPlUa"
      }
    },
    {
      "cell_type": "markdown",
      "source": [
        "### Q13. What does negative correlation mean?    \n",
        "**Answer:**  \n",
        "- Correlation measures the strength and direction of the relationship between two variables.  \n",
        "- Range: -1 to +1  \n",
        "  - **+1:** Perfect positive correlation (both increase together).  \n",
        "  - **-1:** Perfect negative correlation (one increases, other decreases).  \n",
        "Example:  \n",
        "- Study hours ↑ → Marks ↑ (positive)  \n",
        "- TV hours ↑ → Marks ↓ (negative)\n",
        "\n"
      ],
      "metadata": {
        "id": "srJ_tyKxQFLm"
      }
    },
    {
      "cell_type": "code",
      "source": [
        "### Q14. How can you find correlation between variables in Python?\n",
        "import pandas as pd\n",
        "\n",
        "data = pd.DataFrame({\n",
        "    \"StudyHours\":[2,4,6,8,10],\n",
        "    \"Marks\":[20,40,60,80,100]\n",
        "})\n",
        "print(data.corr())\n"
      ],
      "metadata": {
        "colab": {
          "base_uri": "https://localhost:8080/"
        },
        "id": "bhgBEpvv-9qf",
        "outputId": "24e7eb37-0de0-4c07-fcb0-1d8959b2cda6"
      },
      "execution_count": null,
      "outputs": [
        {
          "output_type": "stream",
          "name": "stdout",
          "text": [
            "            StudyHours  Marks\n",
            "StudyHours         1.0    1.0\n",
            "Marks              1.0    1.0\n"
          ]
        }
      ]
    },
    {
      "cell_type": "markdown",
      "source": [
        "### Q15. What is causation? Explain difference between correlation and causation.  \n",
        "**Answer:**  \n",
        "- Correlation: Two variables move together but not necessarily cause-effect.  \n",
        "- Causation: One variable directly affects another.  \n",
        "\n",
        "Example:  \n",
        "- Ice cream sales ↑ and drowning cases ↑ (correlation, not causation).  \n",
        "- More study hours → Higher marks (causation).\n"
      ],
      "metadata": {
        "id": "rAx8J1wu_Oqh"
      }
    },
    {
      "cell_type": "markdown",
      "source": [
        "### Q16. What is an Optimizer? Types of optimizers?  \n",
        "**Answer:**  \n",
        "Optimizer: Algorithm to update model parameters to minimize loss.  \n",
        "\n",
        "Types:  \n",
        "1. Gradient Descent  \n",
        "2. SGD  \n",
        "3. Adam  \n",
        "4. RMSProp\n"
      ],
      "metadata": {
        "id": "JGRFEXEV_sPW"
      }
    },
    {
      "cell_type": "markdown",
      "source": [
        "### Q17. What is sklearn.linear_model?  \n",
        "**Answer:**  \n",
        "A module containing linear models:  \n",
        "- Linear Regression  \n",
        "- Logistic Regression  \n",
        "- Ridge, Lasso\n"
      ],
      "metadata": {
        "id": "QeUyQn0p_xbE"
      }
    },
    {
      "cell_type": "markdown",
      "source": [
        "### Q18. What does model.fit() do? What arguments must be given?\n",
        "\n",
        "**Answer:**  \n",
        "- `model.fit()` is used to **train the machine learning model** on the training data.  \n",
        "- It adjusts the model’s **parameters** based on the input features (X) and the target/output (y).  \n",
        "- It is called during the **training phase**.  \n",
        "\n",
        "**Required Arguments:**  \n",
        "1. `X_train` → Input features (independent variables).  \n",
        "2. `y_train` → Target values (dependent variable).  \n",
        "\n",
        "After calling `.fit()`, the model “learns” from the data and stores parameters (like slope and intercept in linear regression).\n"
      ],
      "metadata": {
        "id": "2yLOHBfQBFVU"
      }
    },
    {
      "cell_type": "code",
      "source": [
        "# Example of model.fit()\n",
        "from sklearn.linear_model import LinearRegression\n",
        "from sklearn.model_selection import train_test_split\n",
        "import pandas as pd\n",
        "\n",
        "# Sample dataset\n",
        "data = pd.DataFrame({\n",
        "    \"X\":[1,2,3,4,5],\n",
        "    \"y\":[2,4,6,8,10]\n",
        "})\n",
        "\n",
        "X = data[[\"X\"]]   # Features\n",
        "y = data[\"y\"]     # Target\n",
        "\n",
        "# Splitting data\n",
        "X_train, X_test, y_train, y_test = train_test_split(X, y, test_size=0.3, random_state=42)\n",
        "\n",
        "# Creating and training model\n",
        "model = LinearRegression()\n",
        "model.fit(X_train, y_train)\n",
        "\n",
        "print(\"Model trained successfully!\")\n",
        "print(\"Coefficient:\", model.coef_)\n",
        "print(\"Intercept:\", model.intercept_)\n"
      ],
      "metadata": {
        "colab": {
          "base_uri": "https://localhost:8080/"
        },
        "id": "xcotNnAkBR8D",
        "outputId": "bf91c7b9-0b1a-4e11-a106-1781fec0ef4b"
      },
      "execution_count": null,
      "outputs": [
        {
          "output_type": "stream",
          "name": "stdout",
          "text": [
            "Model trained successfully!\n",
            "Coefficient: [2.]\n",
            "Intercept: 8.881784197001252e-16\n"
          ]
        }
      ]
    },
    {
      "cell_type": "markdown",
      "source": [
        "### Q19. What does model.predict() do? What arguments must be given?\n",
        "\n",
        "**Answer:**  \n",
        "- `model.predict()` predicts output for given input features.  \n",
        "- Argument: `X_test`.  \n",
        "- It returns the predicted `y` values for unseen data.\n"
      ],
      "metadata": {
        "id": "1m0M_2gKBcqu"
      }
    },
    {
      "cell_type": "code",
      "source": [
        "# Example of model.predict()\n",
        "\n",
        "from sklearn.linear_model import LinearRegression\n",
        "from sklearn.model_selection import train_test_split\n",
        "import pandas as pd\n",
        "\n",
        "# Sample dataset\n",
        "data = pd.DataFrame({\n",
        "    \"X\": [1, 2, 3, 4, 5],\n",
        "    \"y\": [2, 4, 6, 8, 10]\n",
        "})\n",
        "\n",
        "X = data[[\"X\"]]   # Features\n",
        "y = data[\"y\"]     # Target\n",
        "\n",
        "# Train-test split\n",
        "X_train, X_test, y_train, y_test = train_test_split(X, y, test_size=0.3, random_state=42)\n",
        "\n",
        "# Train model\n",
        "model = LinearRegression()\n",
        "model.fit(X_train, y_train)\n",
        "\n",
        "# Predict on test set\n",
        "y_pred = model.predict(X_test)\n",
        "\n",
        "print(\"X_test values:\\n\", X_test)\n",
        "print(\"Predicted y values:\\n\", y_pred)\n",
        "print(\"Actual y values:\\n\", list(y_test))   # safe way\n"
      ],
      "metadata": {
        "colab": {
          "base_uri": "https://localhost:8080/",
          "height": 0
        },
        "id": "tz_rxJTGCo-7",
        "outputId": "02b41fc1-837a-4ddc-e821-e6b86a62e0e2"
      },
      "execution_count": 5,
      "outputs": [
        {
          "output_type": "stream",
          "name": "stdout",
          "text": [
            "X_test values:\n",
            "    X\n",
            "1  2\n",
            "4  5\n",
            "Predicted y values:\n",
            " [ 4. 10.]\n",
            "Actual y values:\n",
            " [4, 10]\n"
          ]
        }
      ]
    },
    {
      "cell_type": "markdown",
      "source": [
        "### Q20. What are continuous and categorical variables?\n",
        "\n",
        "Answer:  \n",
        "- **Continuous Variables:**  \n",
        "  - Numeric variables that can take infinite values within a range.  \n",
        "  - They are measurable quantities.  \n",
        "  - Examples: Height (170.5 cm), Weight (60.2 kg), Salary (₹55,000), Temperature (36.6°C).  \n",
        "\n",
        "- **Categorical Variables:**  \n",
        "  - Variables that represent categories, labels, or groups.  \n",
        "  - They are qualitative, not numerical.  \n",
        "  - Examples: Gender (Male/Female), City (Delhi, Jaipur, Mumbai), Colors (Red, Blue, Green).  \n",
        "\n",
        " Continuous → Measurement (numbers)  \n",
        " Categorical → Labels (groups)\n"
      ],
      "metadata": {
        "id": "p4V-mWUoGeQx"
      }
    },
    {
      "cell_type": "markdown",
      "source": [
        "### Q21. What is feature scaling? How does it help in Machine Learning?\n",
        "\n",
        "Answer:  \n",
        "- **Feature Scaling** is the process of transforming all features into the same scale or range (like 0–1 or -1 to +1).  \n",
        "- Many ML models are sensitive to the scale of data (for example: KNN, SVM, Logistic Regression, Neural Networks).  \n",
        "\n",
        "**Helps in:**  \n",
        "1. Prevents features with larger values from dominating smaller features.  \n",
        "2. Improves speed and convergence of Gradient Descent.  \n",
        "3. Makes distance-based algorithms (KNN, Clustering) work correctly.  \n",
        "\n",
        "**Example:**  \n",
        "- Dataset: Age = [18, 22, 35], Salary = [20,000, 60,000, 1,00,000].  \n",
        "- Without scaling → Salary dominates Age because of large values.  \n",
        "- After scaling → Both Age and Salary contribute equally.  \n"
      ],
      "metadata": {
        "id": "ePSxfL7KGz_M"
      }
    },
    {
      "cell_type": "markdown",
      "source": [
        "### Q22. How do we perform scaling in Python?\n"
      ],
      "metadata": {
        "id": "T12f-9YZE1ME"
      }
    },
    {
      "cell_type": "code",
      "source": [
        "from sklearn.preprocessing import StandardScaler, MinMaxScaler\n",
        "import pandas as pd\n",
        "\n",
        "# Sample data\n",
        "data = pd.DataFrame({\n",
        "    'Age': [25, 30, 45, 35, 50],\n",
        "    'Salary': [50000, 60000, 80000, 75000, 90000]\n",
        "})\n",
        "\n",
        "# Standardization\n",
        "scaler = StandardScaler()\n",
        "standardized = scaler.fit_transform(data)\n",
        "\n",
        "# Normalization\n",
        "minmax = MinMaxScaler()\n",
        "normalized = minmax.fit_transform(data)\n",
        "\n",
        "print(\"Original Data:\\n\", data)\n",
        "print(\"\\nStandardized Data:\\n\", standardized)\n",
        "print(\"\\nNormalized Data:\\n\", normalized)\n"
      ],
      "metadata": {
        "colab": {
          "base_uri": "https://localhost:8080/",
          "height": 0
        },
        "id": "u8g2M2JmE8Rc",
        "outputId": "b6d77d0d-9fd1-4936-9476-c16e0731b8b5"
      },
      "execution_count": 6,
      "outputs": [
        {
          "output_type": "stream",
          "name": "stdout",
          "text": [
            "Original Data:\n",
            "    Age  Salary\n",
            "0   25   50000\n",
            "1   30   60000\n",
            "2   45   80000\n",
            "3   35   75000\n",
            "4   50   90000\n",
            "\n",
            "Standardized Data:\n",
            " [[-1.29399328 -1.47029409]\n",
            " [-0.75482941 -0.77015405]\n",
            " [ 0.86266219  0.63012604]\n",
            " [-0.21566555  0.28005602]\n",
            " [ 1.40182605  1.33026608]]\n",
            "\n",
            "Normalized Data:\n",
            " [[0.    0.   ]\n",
            " [0.2   0.25 ]\n",
            " [0.8   0.75 ]\n",
            " [0.4   0.625]\n",
            " [1.    1.   ]]\n"
          ]
        }
      ]
    },
    {
      "cell_type": "markdown",
      "source": [
        "### Q23. What is sklearn.preprocessing?\n",
        "\n",
        "Answer:\n",
        "- sklearn.preprocessing is a module in Scikit-learn for preprocessing data.\n",
        "- It includes tools for:\n",
        "  * Scaling (StandardScaler, MinMaxScaler)\n",
        "  * Encoding (OneHotEncoder, LabelEncoder)\n",
        "  * Normalization\n",
        "  * Binarization\n",
        "- It prepares raw data for training models.\n"
      ],
      "metadata": {
        "id": "qS_xQjyqFExK"
      }
    },
    {
      "cell_type": "markdown",
      "source": [
        "### Q24. How do we split data for model fitting (training and testing) in Python?\n"
      ],
      "metadata": {
        "id": "0Q_fCyLhFJUc"
      }
    },
    {
      "cell_type": "code",
      "source": [
        "from sklearn.model_selection import train_test_split\n",
        "import pandas as pd\n",
        "\n",
        "# Sample dataset\n",
        "data = pd.DataFrame({\n",
        "    'Feature1': [10, 20, 30, 40, 50],\n",
        "    'Feature2': [1, 2, 3, 4, 5],\n",
        "    'Target':   [100, 200, 300, 400, 500]\n",
        "})\n",
        "\n",
        "X = data[['Feature1', 'Feature2']]  # Features\n",
        "y = data['Target']                  # Target\n",
        "\n",
        "X_train, X_test, y_train, y_test = train_test_split(\n",
        "    X, y, test_size=0.2, random_state=42\n",
        ")\n",
        "\n",
        "print(\"X_train:\\n\", X_train)\n",
        "print(\"\\nX_test:\\n\", X_test)\n",
        "print(\"\\ny_train:\\n\", y_train)\n",
        "print(\"\\ny_test:\\n\", y_test)\n"
      ],
      "metadata": {
        "colab": {
          "base_uri": "https://localhost:8080/",
          "height": 0
        },
        "id": "ZSJwYhP-FRTc",
        "outputId": "fd170eef-855e-4df4-e4b1-e4e4c34c5a6b"
      },
      "execution_count": 7,
      "outputs": [
        {
          "output_type": "stream",
          "name": "stdout",
          "text": [
            "X_train:\n",
            "    Feature1  Feature2\n",
            "4        50         5\n",
            "2        30         3\n",
            "0        10         1\n",
            "3        40         4\n",
            "\n",
            "X_test:\n",
            "    Feature1  Feature2\n",
            "1        20         2\n",
            "\n",
            "y_train:\n",
            " 4    500\n",
            "2    300\n",
            "0    100\n",
            "3    400\n",
            "Name: Target, dtype: int64\n",
            "\n",
            "y_test:\n",
            " 1    200\n",
            "Name: Target, dtype: int64\n"
          ]
        }
      ]
    },
    {
      "cell_type": "markdown",
      "source": [
        "### Q25. Explain data encoding.\n",
        "\n",
        "Answer:\n",
        "- Data Encoding means converting categorical values into numbers.\n",
        "- Types:\n",
        "  1. Label Encoding → Converts categories to numbers (Male=0, Female=1).\n",
        "  2. One-Hot Encoding → Creates dummy columns for each category.\n",
        "  3. Ordinal Encoding → Assigns numbers based on order (Low=1, Medium=2, High=3).\n",
        "- Encoding is needed because ML algorithms work with numerical data.\n"
      ],
      "metadata": {
        "id": "PkzLVwhyFXMh"
      }
    },
    {
      "cell_type": "code",
      "source": [
        "from sklearn.preprocessing import OneHotEncoder\n",
        "import pandas as pd\n",
        "data = pd.DataFrame({\"Color\":[\"Red\",\"Blue\",\"Green\"]})\n",
        "enc = OneHotEncoder(sparse_output=False)\n",
        "print(enc.fit_transform(data))\n"
      ],
      "metadata": {
        "colab": {
          "base_uri": "https://localhost:8080/",
          "height": 0
        },
        "id": "k5m9zt83H8SB",
        "outputId": "5fd95966-4e77-442f-8c5d-ae2bda12fe00"
      },
      "execution_count": 9,
      "outputs": [
        {
          "output_type": "stream",
          "name": "stdout",
          "text": [
            "[[0. 0. 1.]\n",
            " [1. 0. 0.]\n",
            " [0. 1. 0.]]\n"
          ]
        }
      ]
    }
  ]
}